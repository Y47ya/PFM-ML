{
 "cells": [
  {
   "metadata": {},
   "cell_type": "code",
   "outputs": [],
   "execution_count": null,
   "source": [
    "import json as js\n",
    "import re\n",
    "import numpy as np\n",
    "import pandas as pd\n",
    "import tqdm.notebook as tqdm\n",
    "import requests as req\n",
    "from bs4 import BeautifulSoup"
   ],
   "id": "922ffd6cd8ca4805"
  },
  {
   "metadata": {},
   "cell_type": "code",
   "outputs": [],
   "execution_count": null,
   "source": [
    "headers = {\n",
    "    'User-Agent': 'Mozilla/5.0 (Windows NT 10.0; Win64; x64) AppleWebKit/537.36 (KHTML, like Gecko) Chrome/119.0.0.0 Safari/537.36'\n",
    "}"
   ],
   "id": "f4b70117aa5cca58"
  },
  {
   "metadata": {},
   "cell_type": "code",
   "outputs": [],
   "execution_count": null,
   "source": [
    "with open(\"urls.json\", \"r\") as file:\n",
    "    urls = list(js.load(file))"
   ],
   "id": "initial_id"
  },
  {
   "metadata": {},
   "cell_type": "code",
   "outputs": [],
   "execution_count": null,
   "source": [
    "dataset = []\n",
    "\n",
    "for index in tqdm.trange():\n",
    "    requests1 = req.get(urls[index], headers=headers)\n",
    "    \n",
    "    soup = BeautifulSoup(requests1.content, \"html\")\n",
    "    \n",
    "    cars_info = []\n",
    "    \n",
    "    # Obtenir le prix\n",
    "    prix = (soup.select_one(\"p.sc-1x0vz2r-0.lnEFFR.sc-1g3sn3w-13.czygWQ\")).get_text()\n",
    "    prix = re.findall(r\"\\d+\", prix)\n",
    "    prix = ''.join(prix)\n",
    "    cars_info.append(prix)\n",
    "    \n",
    "    # Obtenir les informations dans la 1ere div\n",
    "    infos = soup.select(\"span.sc-1x0vz2r-0.kQHNss\")\n",
    "    for info in infos:\n",
    "        cars_info.append(info.get_text())\n",
    "       \n",
    "    # Obtenir les informations dans la 2eme div \n",
    "    infos1 = soup.select(\"span.sc-1x0vz2r-0.gSLYtF\")\n",
    "    for info in infos1:\n",
    "        cars_info.append(info.get_text())\n",
    "        \n",
    "    # Obtenir les equipements de la voiture s'ils existent\n",
    "    try:\n",
    "        equipements = []\n",
    "        for equipement in soup.select(\"span.sc-1x0vz2r-0.bXFCIH\"):\n",
    "            equipements.append(equipement.get_text())\n",
    "        \n",
    "        if not equipements:\n",
    "            equipements = None\n",
    "        else:\n",
    "            equipements = \", \".join(equipements) \n",
    "            \n",
    "        cars_info.append(equipements)\n",
    "    \n",
    "    except:\n",
    "        cars_info.append(None)\n",
    "    \n",
    "    dataset.append(cars_info)"
   ],
   "id": "28f0367bff78d97b"
  },
  {
   "metadata": {},
   "cell_type": "code",
   "outputs": [],
   "execution_count": null,
   "source": "dataset = (np.array(dataset)).T",
   "id": "568af30797122712"
  },
  {
   "metadata": {},
   "cell_type": "code",
   "outputs": [],
   "execution_count": null,
   "source": [
    "df = pd.DataFrame({\n",
    "    \"Price\": dataset[0],\n",
    "    \"Year\": dataset[1],\n",
    "    \"Transmission\": dataset[2],\n",
    "    \"Fuel\": dataset[3],\n",
    "    \"Type\": dataset[4],\n",
    "    \"Sector\": dataset[5],\n",
    "    \"Mileage\": dataset[6],\n",
    "    \"Brand\": dataset[7],\n",
    "    \"Model\": dataset[8],\n",
    "    \"Number of doors\": dataset[9],\n",
    "    \"Origin\": dataset[10],\n",
    "    \"First owner\": dataset[11],\n",
    "    \"Power\": dataset[12],\n",
    "    \"Condition\": dataset[13],\n",
    "    \"Equipment\": dataset[14],\n",
    "})"
   ],
   "id": "774808661fc629b9"
  },
  {
   "metadata": {},
   "cell_type": "code",
   "outputs": [],
   "execution_count": null,
   "source": [
    "try:\n",
    "    df.to_csv(\"dataset.csv\", index=False)\n",
    "    print(\"Dataframe saved\")\n",
    "    \n",
    "except IndexError as e:\n",
    "    print(\"Dataframe didn't save\")"
   ],
   "id": "779eaafd8f3ed185"
  }
 ],
 "metadata": {
  "kernelspec": {
   "display_name": "Python 3",
   "language": "python",
   "name": "python3"
  },
  "language_info": {
   "codemirror_mode": {
    "name": "ipython",
    "version": 2
   },
   "file_extension": ".py",
   "mimetype": "text/x-python",
   "name": "python",
   "nbconvert_exporter": "python",
   "pygments_lexer": "ipython2",
   "version": "2.7.6"
  }
 },
 "nbformat": 4,
 "nbformat_minor": 5
}
