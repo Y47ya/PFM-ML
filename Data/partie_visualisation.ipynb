{
 "cells": [
  {
   "cell_type": "code",
   "execution_count": 12,
   "id": "4af6f6a5-87f5-452f-9991-6b7146a3f408",
   "metadata": {},
   "outputs": [
    {
     "data": {
      "text/html": [
       "\n",
       "        <iframe\n",
       "            width=\"100%\"\n",
       "            height=\"650\"\n",
       "            src=\"http://127.0.0.1:8063/\"\n",
       "            frameborder=\"0\"\n",
       "            allowfullscreen\n",
       "            \n",
       "        ></iframe>\n",
       "        "
      ],
      "text/plain": [
       "<IPython.lib.display.IFrame at 0x18ed9c1b110>"
      ]
     },
     "metadata": {},
     "output_type": "display_data"
    }
   ],
   "source": [
    "import pandas as pd\n",
    "import plotly.express as px\n",
    "import dash\n",
    "from dash import dcc, html\n",
    "import numpy as np\n",
    "\n",
    "# 1. Charger les données\n",
    "df = pd.read_csv(\"C:/Users/HP G3/Bureau/voitures_preprocessed.csv\", encoding='latin1')\n",
    "\n",
    "# 2. Supprimer les lignes avec trop de valeurs manquantes\n",
    "seuil_null = df.shape[1] * 0.5\n",
    "df = df[df.isnull().sum(axis=1) < seuil_null]\n",
    "\n",
    "# 3. Nettoyer les années et calculer l'âge\n",
    "df['Année'] = pd.to_numeric(df['Année'], errors='coerce').fillna(1980).astype(int)\n",
    "df['Age'] = 2025 - df['Année']\n",
    "\n",
    "# 4. Utiliser la colonne 'Prix' telle quelle mais appliquer une transformation logarithmique pour la visualisation\n",
    "df['Log_Prix'] = np.log1p(df['Prix'])  # log1p est équivalent à log(Prix + 1) pour éviter les problèmes avec les valeurs nulles ou zéro\n",
    "\n",
    "# 5. Fusionner les colonnes carburant, boîte à vitesses et origine\n",
    "# Fusionner les types de carburant\n",
    "carburant_cols = ['Carburant_Diesel', 'Carburant_Electrique', 'Carburant_Essence', 'Carburant_Hybride', 'Carburant_LPG']\n",
    "df['Carburant'] = df[carburant_cols].idxmax(axis=1).str.replace(\"Carburant_\", \"\")\n",
    "\n",
    "# Fusionner les types de boîte à vitesses\n",
    "boitev_cols = ['BoiteàV_Automatique', 'BoiteàV_Manuelle']\n",
    "df['BoiteàV'] = df[boitev_cols].idxmax(axis=1).str.replace(\"BoiteàV_\", \"\")\n",
    "\n",
    "# Fusionner les types d'origine\n",
    "origine_cols = ['Origine_Dédouanée', 'Origine_Importée_neuve', 'Origine_Pas_encore_dédouanée', 'Origine_WW_au_Maroc']\n",
    "df['Origine'] = df[origine_cols].idxmax(axis=1).str.replace(\"Origine_\", \"\")\n",
    "\n",
    "# 6. Heatmap des corrélations avec les colonnes fusionnées\n",
    "df_corr = df.copy()\n",
    "\n",
    "# Conversion des colonnes catégorielles (Carburant, Origine, Boite à vitesses) en numériques\n",
    "df_corr['Carburant'] = df_corr['Carburant'].astype('category').cat.codes\n",
    "df_corr['Origine'] = df_corr['Origine'].astype('category').cat.codes\n",
    "df_corr['BoiteàV'] = df_corr['BoiteàV'].astype('category').cat.codes\n",
    "\n",
    "# Sélectionner les colonnes pertinentes pour la corrélation\n",
    "df_corr = df_corr[['Prix', 'Log_Prix', 'Age', 'Carburant', 'BoiteàV', 'Origine']]\n",
    "\n",
    "# Calculer la matrice de corrélation\n",
    "corr_matrix = df_corr.corr()\n",
    "\n",
    "# 7. Heatmap avec une taille plus modérée\n",
    "fig_heatmap = px.imshow(corr_matrix, text_auto=True, aspect=\"auto\", width=800, height=600,  # Taille réduite\n",
    "                        title=\"Heatmap des Corrélations \",\n",
    "                        color_continuous_scale=\"YlGnBu\")\n",
    "\n",
    "# 8. Histogramme de la distribution des prix avec transformation logarithmique\n",
    "fig_price = px.histogram(df, x='Log_Prix', nbins=30, title='Distribution des Prix',\n",
    "                         labels={'Log_Prix': 'Log(Prix + 1)'},\n",
    "                         template=\"plotly_dark\", color_discrete_sequence=[\"#FF6347\"],\n",
    "                         log_y=True)  # Échelle logarithmique\n",
    "\n",
    "# 9. Répartition des prix par marque-modèle\n",
    "fig_boxplot = px.histogram(df, x='Marque_Modele', y='Log_Prix', title=\"Prix par Marque et Modèle\",\n",
    "                           template=\"plotly_dark\", color_discrete_sequence=[\"#8A2BE2\"], log_y=True)\n",
    "\n",
    "# 10. Prix par type de carburant\n",
    "fig_carburant = px.histogram(df, x='Carburant', y='Log_Prix', title=\"Prix par Type de Carburant\",\n",
    "                             template=\"plotly_dark\", color_discrete_sequence=[\"#3CB371\"], log_y=True)\n",
    "\n",
    "# 11. Impact de l'âge sur le prix\n",
    "fig_age = px.histogram(df, x='Age', y='Log_Prix', title=\"Impact de l'Âge sur le Prix\",\n",
    "                       template=\"plotly_dark\", color_discrete_sequence=[\"#FF1493\"], log_y=True)\n",
    "\n",
    "# 12. Top 10 modèles les plus fréquents\n",
    "top_models = df['Marque_Modele'].value_counts().head(10)\n",
    "fig_models = px.bar(x=top_models.index, y=top_models.values,\n",
    "                    title=\"Top 10 des Modèles les Plus Populaires\",\n",
    "                    labels={'x': 'Modèle', 'y': 'Occurrences'}, template=\"plotly_dark\",\n",
    "                    color_discrete_sequence=[\"#FFD700\"])\n",
    "\n",
    "# 13. Répartition par Origine\n",
    "fig_origine = px.pie(df, names='Origine', title=\"Répartition par Origine\",\n",
    "                     template=\"plotly_dark\", color_discrete_sequence=[\"#FF8C00\", \"#DAA520\", \"#CD5C5C\", \"#6A5ACD\"])\n",
    "\n",
    "# 14. Répartition par Boîte à vitesses\n",
    "fig_boite_vitesse = px.pie(df, names='BoiteàV', title=\"Répartition par Type de Boîte à Vitesses\",\n",
    "                           template=\"plotly_dark\", color_discrete_sequence=[\"#FF6347\", \"#4682B4\"])\n",
    "\n",
    "# 15. Lancer Dash\n",
    "app = dash.Dash(__name__)\n",
    "\n",
    "app.layout = html.Div(children=[\n",
    "    html.H1(\"Analyse Exploratoire - Marché Automobile Marocain\", style={'textAlign': 'center', 'color': '#FF6347'}),\n",
    "    html.Div([\n",
    "        dcc.Graph(figure=fig_price),\n",
    "        dcc.Graph(figure=fig_boxplot),\n",
    "        dcc.Graph(figure=fig_carburant),\n",
    "        dcc.Graph(figure=fig_age),\n",
    "        dcc.Graph(figure=fig_heatmap),\n",
    "        dcc.Graph(figure=fig_models),\n",
    "        dcc.Graph(figure=fig_origine),\n",
    "        dcc.Graph(figure=fig_boite_vitesse)\n",
    "    ], style={'display': 'grid', 'gridTemplateColumns': 'repeat(2, 2fr)', 'gap': '10px'})\n",
    "])\n",
    "\n",
    "if __name__ == '__main__':\n",
    "    app.run(debug=True, port=8063) "
   ]
  },
  {
   "cell_type": "code",
   "execution_count": 2,
   "id": "014e709a-53f4-4b84-aac1-1fff40882b50",
   "metadata": {},
   "outputs": [
    {
     "name": "stdout",
     "output_type": "stream",
     "text": [
      "['2019' '2020' '2024' '2012' '2016' '2021' '2022' '2023' '2017' '2011'\n",
      " '2014' '2006' '2010' '2013' '1999' '2007' '2018' '1993' '2015' '2004'\n",
      " '2008' '2009' '2002' '2001' '2003' '1991' '2025' '1982'\n",
      " '1980 ou plus ancien' '2000' '1995' '1998' '2005' '1984' '1990' '1988'\n",
      " '1985' '1994' '1996' '1997' '1986' '1983' '1987' '1992' '1989' '1981']\n"
     ]
    }
   ],
   "source": [
    "import pandas as pd\n",
    "import numpy as np\n",
    "\n",
    "\n",
    "# Chargement des données\n",
    "df = pd.read_csv(\"C:/Users/HP G3/Bureau/voitures_preprocessed.csv\", encoding='latin1')\n",
    "\n",
    "print(df[\"Année\"].unique())"
   ]
  },
  {
   "cell_type": "code",
   "execution_count": null,
   "id": "6cd364d0-e5c1-4765-8637-b1756a8ae4b4",
   "metadata": {},
   "outputs": [],
   "source": []
  }
 ],
 "metadata": {
  "kernelspec": {
   "display_name": "Python 3 (ipykernel)",
   "language": "python",
   "name": "python3"
  },
  "language_info": {
   "codemirror_mode": {
    "name": "ipython",
    "version": 3
   },
   "file_extension": ".py",
   "mimetype": "text/x-python",
   "name": "python",
   "nbconvert_exporter": "python",
   "pygments_lexer": "ipython3",
   "version": "3.12.3"
  }
 },
 "nbformat": 4,
 "nbformat_minor": 5
}
