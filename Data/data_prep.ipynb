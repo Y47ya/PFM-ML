{
 "cells": [
  {
   "metadata": {},
   "cell_type": "code",
   "source": [
    "import matplotlib.pyplot as plt\n",
    "import pandas as pd\n",
    "import numpy as np\n",
    "import warnings"
   ],
   "id": "initial_id",
   "outputs": [],
   "execution_count": null
  },
  {
   "metadata": {},
   "cell_type": "code",
   "source": "warnings.filterwarnings(\"ignore\", category=FutureWarning)",
   "id": "2cbead861862f5be",
   "outputs": [],
   "execution_count": null
  },
  {
   "metadata": {},
   "cell_type": "code",
   "source": [
    "df = pd.read_csv(\"cars_avito.csv\", encoding= 'utf-8')\n",
    "df"
   ],
   "id": "4685195d264e5bd",
   "outputs": [],
   "execution_count": null
  },
  {
   "metadata": {},
   "cell_type": "code",
   "source": "df.info()",
   "id": "76cbee6683faac75",
   "outputs": [],
   "execution_count": null
  },
  {
   "metadata": {},
   "cell_type": "code",
   "source": "df.isnull().sum()",
   "id": "db3ca8b6636363dd",
   "outputs": [],
   "execution_count": null
  },
  {
   "metadata": {},
   "cell_type": "code",
   "source": [
    "# Supprimer les lignes contient des valeurs nulls pour 'Marque' => Une dataset sans valeurs nulls\n",
    "df = df.dropna(subset= 'Marque')\n",
    "\n",
    "# Supprimer les colonnes unitiles\n",
    "df = df.drop(['Secteur', 'Type', 'État'], axis= 1)\n",
    "df"
   ],
   "id": "1122fce069a29937",
   "outputs": [],
   "execution_count": null
  },
  {
   "metadata": {},
   "cell_type": "code",
   "source": [
    "from sklearn.preprocessing import OrdinalEncoder\n",
    "\n",
    "# Appliquer l'encodage ordinale pour le variable \"Premier main\"\n",
    "condition_ctg = ['Oui', 'Non']\n",
    "\n",
    "condition_encoder = OrdinalEncoder(categories= [condition_ctg])\n",
    "\n",
    "df['Première main'] = condition_encoder.fit_transform(df[['Première main']])"
   ],
   "id": "997901113273fa90",
   "outputs": [],
   "execution_count": null
  },
  {
   "metadata": {},
   "cell_type": "code",
   "source": [
    "# Appliquer le One-hot encoding pour les variables non-ordinales\n",
    "df_encoded = pd.get_dummies(df[['Carburant', 'BoiteàV', 'Origine']], dtype=int)\n",
    "\n",
    "# Supprimer les colonnes qui vont etre encoder\n",
    "df = df.drop(['Carburant', 'BoiteàV', 'Origine'], axis= 1)\n",
    "\n",
    "# Concatiner df avec df_encoded qui contient les colonnes encoder\n",
    "df = pd.concat([df, df_encoded], axis= 1)\n",
    "df"
   ],
   "id": "a6d55f4ea65a71ee",
   "outputs": [],
   "execution_count": null
  },
  {
   "metadata": {},
   "cell_type": "code",
   "source": [
    "# Supprimer les espaces d'apres le nom des variables\n",
    "df.columns = df.columns.str.replace(\" \", \"_\")"
   ],
   "id": "e355566701efa69f",
   "outputs": [],
   "execution_count": null
  },
  {
   "metadata": {},
   "cell_type": "code",
   "source": [
    "df['Kilométrage'] = df['Kilométrage'].str.replace(\" \", \"\")\n",
    "\n",
    "# Remplacer l'intervalle du kilometrage par la valeur moyenne\n",
    "def get_avrg(val):\n",
    "    \n",
    "    val = str(val)\n",
    "    \n",
    "    if '-' in val:\n",
    "        bounds = val.split('-')\n",
    "        return (int(bounds[0]) + int(bounds[1])) / 2\n",
    "    \n",
    "    elif 'Moins' in val:\n",
    "        number = int(val.split('e')[1])\n",
    "        return number / 2\n",
    "    \n",
    "    else:\n",
    "        number = int(val.split('e')[1])\n",
    "        return number / 2 + 10000\n",
    "\n",
    "df['Kilométrage'] = df['Kilométrage'].apply(get_avrg)"
   ],
   "id": "298d1b6269f56a5a",
   "outputs": [],
   "execution_count": null
  },
  {
   "metadata": {},
   "cell_type": "code",
   "source": [
    "# Combiner la Marque et le modele \n",
    "df['Marque_Modele'] = (df['Marque'].str.strip() + '_' + df['Modèle'].str.strip()).str.replace(' ', '_')\n",
    "df = df.drop(['Marque', 'Modèle'], axis= 1)\n",
    "\n",
    "# Appliquer le target encoding pour remplacer chaque Marque_Modele par sa moyenne des prix\n",
    "mean_prices = df.groupby('Marque_Modele')['Prix'].mean()\n",
    "\n",
    "df['Marque_Modele_Encoded'] = df['Marque_Modele'].map(mean_prices)"
   ],
   "id": "5260a136391c4f26",
   "outputs": [],
   "execution_count": null
  },
  {
   "metadata": {},
   "cell_type": "code",
   "source": [
    "from gensim.models import FastText\n",
    "\n",
    "# Gerer les lignes sans equipements\n",
    "df['équipements'].fillna('', inplace= True)\n",
    "\n",
    "# Gerer les carcteres dans equipements\n",
    "df['équipements_clean'] = df['équipements'].str.lower().str.replace('/', ' ').str.replace(',', '').str.split()\n",
    "\n",
    "sentences = df['équipements_clean'].tolist()\n",
    "\n",
    "model = FastText(sentences, vector_size= 100, window= 3, min_count= 1 ,workers= 4)"
   ],
   "id": "1cdaf02a286ded5",
   "outputs": [],
   "execution_count": null
  },
  {
   "metadata": {},
   "cell_type": "code",
   "source": [
    "def vectorize_equipements(equipements_list, model):\n",
    "    vectors = [model.wv[word] for word in equipements_list if word in model.wv]\n",
    "    if vectors:\n",
    "        return np.mean(vectors, axis=0)\n",
    "    else:\n",
    "        return np.zeros(model.vector_size)\n",
    "\n",
    "# Appliquer le word embeding utilisant FastText au equipements\n",
    "df['équipements_vector'] = df['équipements_clean'].apply(lambda x: vectorize_equipements(x, model))\n"
   ],
   "id": "50778c903943d62e",
   "outputs": [],
   "execution_count": null
  },
  {
   "metadata": {},
   "cell_type": "code",
   "source": "df = df.drop(['équipements', 'équipements_clean'], axis= 1)",
   "id": "3b843a07784bdf38",
   "outputs": [],
   "execution_count": null
  },
  {
   "metadata": {},
   "cell_type": "code",
   "source": [
    "try:\n",
    "    df.to_csv('voitures_preprocessed.csv', index=False, encoding='ISO-8859-1')\n",
    "    print(\"file saved\")\n",
    "    \n",
    "except:\n",
    "    print(\"file didn't save\")\n"
   ],
   "id": "9508a03c2cd1c093",
   "outputs": [],
   "execution_count": null
  },
  {
   "metadata": {},
   "cell_type": "code",
   "source": "",
   "id": "aeb1f7436cf5dd5c",
   "outputs": [],
   "execution_count": null
  }
 ],
 "metadata": {
  "kernelspec": {
   "display_name": "Python 3",
   "language": "python",
   "name": "python3"
  },
  "language_info": {
   "codemirror_mode": {
    "name": "ipython",
    "version": 2
   },
   "file_extension": ".py",
   "mimetype": "text/x-python",
   "name": "python",
   "nbconvert_exporter": "python",
   "pygments_lexer": "ipython2",
   "version": "2.7.6"
  }
 },
 "nbformat": 4,
 "nbformat_minor": 5
}
