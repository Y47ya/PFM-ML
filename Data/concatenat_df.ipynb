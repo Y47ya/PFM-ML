{
 "cells": [
  {
   "cell_type": "code",
   "id": "initial_id",
   "metadata": {
    "collapsed": true,
    "ExecuteTime": {
     "end_time": "2025-04-03T14:16:08.938460Z",
     "start_time": "2025-04-03T14:16:08.067579Z"
    }
   },
   "source": "import pandas as pd",
   "outputs": [],
   "execution_count": 2
  },
  {
   "metadata": {},
   "cell_type": "code",
   "source": [
    "df1 = pd.read_csv(\"C:\\\\Users\\\\yahya\\\\Downloads\\\\dataset9.csv\")\n",
    "df2 = pd.read_csv(\"C:\\\\Users\\\\yahya\\\\Downloads\\\\dataset10.csv\")\n",
    "df3 = pd.read_csv(\"C:\\\\Users\\\\yahya\\\\Downloads\\\\dataset11.csv\")\n",
    "df4 = pd.read_csv(\"C:\\\\Users\\\\yahya\\\\Downloads\\\\dataset12.csv\")\n",
    "df5 = pd.read_csv(\"C:\\\\Users\\\\yahya\\\\Downloads\\\\dataset13.csv\")\n",
    "df6 = pd.read_csv(\"C:\\\\Users\\\\yahya\\\\Downloads\\\\dataset14.csv\")\n",
    "df7 = pd.read_csv(\"C:\\\\Users\\\\yahya\\\\Downloads\\\\dataset15.csv\")\n",
    "df8 = pd.read_csv(\"C:\\\\Users\\\\yahya\\\\Downloads\\\\dataset16.csv\")\n"
   ],
   "id": "6d2a970f02d2248a",
   "outputs": [],
   "execution_count": null
  },
  {
   "metadata": {},
   "cell_type": "code",
   "source": "df = pd.concat([df1, df2, df3, df4, df5, df6, df7, df8], ignore_index=True)",
   "id": "70d167f3a062d968",
   "outputs": [],
   "execution_count": null
  },
  {
   "metadata": {
    "ExecuteTime": {
     "end_time": "2025-04-03T14:00:54.951418Z",
     "start_time": "2025-04-03T14:00:54.782113Z"
    }
   },
   "cell_type": "code",
   "source": "df.to_csv(\"CarsDataSet1.csv\", index=False)",
   "id": "eb05004d00a6fb2",
   "outputs": [],
   "execution_count": 10
  }
 ],
 "metadata": {
  "kernelspec": {
   "display_name": "Python 3",
   "language": "python",
   "name": "python3"
  },
  "language_info": {
   "codemirror_mode": {
    "name": "ipython",
    "version": 2
   },
   "file_extension": ".py",
   "mimetype": "text/x-python",
   "name": "python",
   "nbconvert_exporter": "python",
   "pygments_lexer": "ipython2",
   "version": "2.7.6"
  }
 },
 "nbformat": 4,
 "nbformat_minor": 5
}
