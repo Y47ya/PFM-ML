{
 "cells": [
  {
   "metadata": {
    "ExecuteTime": {
     "end_time": "2025-04-03T02:37:32.517646Z",
     "start_time": "2025-04-03T02:37:32.510119Z"
    }
   },
   "cell_type": "code",
   "source": [
    "import requests as req\n",
    "from bs4 import BeautifulSoup\n",
    "import tqdm.notebook as tqdm\n"
   ],
   "id": "fbed12b53bf5a2ae",
   "outputs": [],
   "execution_count": 146
  },
  {
   "metadata": {},
   "cell_type": "markdown",
   "source": "",
   "id": "9aca5bdfeb2aa7d5"
  },
  {
   "metadata": {
    "ExecuteTime": {
     "end_time": "2025-04-03T00:18:58.892985Z",
     "start_time": "2025-04-02T23:24:09.572530Z"
    }
   },
   "cell_type": "code",
   "source": [
    "\n",
    "headers = {\n",
    "    'User-Agent': 'Mozilla/5.0 (Windows NT 10.0; Win64; x64) AppleWebKit/537.36 (KHTML, like Gecko) Chrome/119.0.0.0 Safari/537.36'\n",
    "}\n",
    "\n",
    "params = {\n",
    "    'has_price' : 'true'\n",
    "}\n",
    "\n",
    "cars_url = set()\n",
    "\n",
    "for index in tqdm.trange(1, 2550):\n",
    "    link = f\"https://www.avito.ma/fr/maroc/voitures_d_occasion-%C3%A0_vendre?o={index}\"\n",
    "    \n",
    "    requests = req.get(link, headers= headers, params=params)\n",
    "    \n",
    "    soup = BeautifulSoup(requests.content, \"html\")\n",
    "    \n",
    "    cars_list = soup.select(\"div.sc-1nre5ec-1>a.sc-1jge648-0\")\n",
    "\n",
    "    for car in cars_list:\n",
    "        cars_url.add(car[\"href\"])"
   ],
   "id": "7e9a7c72e6155cf3",
   "outputs": [
    {
     "data": {
      "text/plain": [
       "  0%|          | 0/2549 [00:00<?, ?it/s]"
      ],
      "application/vnd.jupyter.widget-view+json": {
       "version_major": 2,
       "version_minor": 0,
       "model_id": "17c0e5fa1a3a418d9f31f2c7f8e335d4"
      }
     },
     "metadata": {},
     "output_type": "display_data"
    }
   ],
   "execution_count": 26
  },
  {
   "metadata": {},
   "cell_type": "markdown",
   "source": "",
   "id": "7fc2198afd30f905"
  },
  {
   "metadata": {
    "ExecuteTime": {
     "end_time": "2025-04-03T01:15:22.643995Z",
     "start_time": "2025-04-03T01:15:22.581664Z"
    }
   },
   "cell_type": "code",
   "source": "",
   "id": "1177ad616982afa0",
   "outputs": [],
   "execution_count": 63
  },
  {
   "metadata": {
    "ExecuteTime": {
     "end_time": "2025-04-03T02:41:36.866608Z",
     "start_time": "2025-04-03T02:41:36.785137Z"
    }
   },
   "cell_type": "code",
   "source": "",
   "id": "a8020a0742a6293",
   "outputs": [
    {
     "ename": "TypeError",
     "evalue": "'list' object cannot be interpreted as an integer",
     "output_type": "error",
     "traceback": [
      "\u001B[1;31m---------------------------------------------------------------------------\u001B[0m",
      "\u001B[1;31mTypeError\u001B[0m                                 Traceback (most recent call last)",
      "Cell \u001B[1;32mIn[151], line 3\u001B[0m\n\u001B[0;32m      1\u001B[0m dataset \u001B[38;5;241m=\u001B[39m []\n\u001B[1;32m----> 3\u001B[0m \u001B[38;5;28;01mfor\u001B[39;00m url \u001B[38;5;129;01min\u001B[39;00m \u001B[43mtqdm\u001B[49m\u001B[38;5;241;43m.\u001B[39;49m\u001B[43mtrange\u001B[49m\u001B[43m(\u001B[49m\u001B[43murls\u001B[49m\u001B[43m)\u001B[49m:\n\u001B[0;32m      4\u001B[0m     requests1 \u001B[38;5;241m=\u001B[39m req\u001B[38;5;241m.\u001B[39mget(url, headers\u001B[38;5;241m=\u001B[39mheaders)\n\u001B[0;32m      6\u001B[0m     soup \u001B[38;5;241m=\u001B[39m BeautifulSoup(requests1\u001B[38;5;241m.\u001B[39mcontent, \u001B[38;5;124m\"\u001B[39m\u001B[38;5;124mhtml\u001B[39m\u001B[38;5;124m\"\u001B[39m)\n",
      "File \u001B[1;32m~\\AppData\\Local\\Programs\\Python\\Python312\\Lib\\site-packages\\tqdm\\notebook.py:312\u001B[0m, in \u001B[0;36mtnrange\u001B[1;34m(*args, **kwargs)\u001B[0m\n\u001B[0;32m    310\u001B[0m \u001B[38;5;28;01mdef\u001B[39;00m \u001B[38;5;21mtnrange\u001B[39m(\u001B[38;5;241m*\u001B[39margs, \u001B[38;5;241m*\u001B[39m\u001B[38;5;241m*\u001B[39mkwargs):\n\u001B[0;32m    311\u001B[0m \u001B[38;5;250m    \u001B[39m\u001B[38;5;124;03m\"\"\"Shortcut for `tqdm.notebook.tqdm(range(*args), **kwargs)`.\"\"\"\u001B[39;00m\n\u001B[1;32m--> 312\u001B[0m     \u001B[38;5;28;01mreturn\u001B[39;00m tqdm_notebook(\u001B[38;5;28;43mrange\u001B[39;49m\u001B[43m(\u001B[49m\u001B[38;5;241;43m*\u001B[39;49m\u001B[43margs\u001B[49m\u001B[43m)\u001B[49m, \u001B[38;5;241m*\u001B[39m\u001B[38;5;241m*\u001B[39mkwargs)\n",
      "\u001B[1;31mTypeError\u001B[0m: 'list' object cannot be interpreted as an integer"
     ]
    }
   ],
   "execution_count": 151
  },
  {
   "metadata": {
    "ExecuteTime": {
     "end_time": "2025-04-03T02:39:16.952011Z",
     "start_time": "2025-04-03T02:39:16.945413Z"
    }
   },
   "cell_type": "code",
   "source": "",
   "id": "6a7487157c8708e4",
   "outputs": [],
   "execution_count": 149
  },
  {
   "metadata": {
    "ExecuteTime": {
     "end_time": "2025-04-03T02:39:17.822009Z",
     "start_time": "2025-04-03T02:39:17.800280Z"
    }
   },
   "cell_type": "code",
   "source": "",
   "id": "3d79632d88da8f5f",
   "outputs": [
    {
     "data": {
      "text/plain": [
       "    Price  Year Transmission     Fuel                           Type  \\\n",
       "0   95000  2009     Manuelle   Diesel  Voitures d'occasion, à vendre   \n",
       "1   30000  1986     Manuelle   Diesel  Voitures d'occasion, à vendre   \n",
       "2   85000  2019     Manuelle  Essence  Voitures d'occasion, à vendre   \n",
       "3  110000  2021     Manuelle   Diesel  Voitures d'occasion, à vendre   \n",
       "4  155000  2012     Manuelle   Diesel  Voitures d'occasion, à vendre   \n",
       "5    6999  2010     Manuelle   Diesel  Voitures d'occasion, à vendre   \n",
       "6  105000  2012  Automatique   Diesel  Voitures d'occasion, à vendre   \n",
       "7  108000  2008     Manuelle   Diesel  Voitures d'occasion, à vendre   \n",
       "8  290000  2021  Automatique   Diesel  Voitures d'occasion, à vendre   \n",
       "9  169000  2016  Automatique   Diesel  Voitures d'occasion, à vendre   \n",
       "\n",
       "           Sector            Mileage       Brand           Model  \\\n",
       "0  Ville Nouvelle          0 - 4 999     Renault          Laguna   \n",
       "1  Toute la ville    10 000 - 14 999  Volkswagen          Golf 2   \n",
       "2    Centre Ville  120 000 - 129 999       Dacia           Logan   \n",
       "3  Toute la ville    45 000 - 49 999     Renault          Kangoo   \n",
       "4    Centre ville  250 000 - 299 999         BMW         Série 3   \n",
       "5  Toute la ville  200 000 - 249 999     Citroen              C4   \n",
       "6        Harhoura  180 000 - 189 999        Jeep  Grand Cherokee   \n",
       "7  Toute la ville  200 000 - 249 999        Audi              A4   \n",
       "8      Hay Dakhla  100 000 - 109 999  Volkswagen          Golf 8   \n",
       "9       Ain Sebaa  200 000 - 249 999  Volkswagen         Touareg   \n",
       "\n",
       "  Number of doors          Origin First owner  Power  Condition  \\\n",
       "0               5     WW au Maroc         Oui   6 CV   Très bon   \n",
       "1               5       Dédouanée         Non   7 CV   Très bon   \n",
       "2               5     WW au Maroc         Non   7 CV   Très bon   \n",
       "3               5     WW au Maroc         Oui   6 CV   Très bon   \n",
       "4               5     WW au Maroc         Non   8 CV  Excellent   \n",
       "5               5     WW au Maroc         Non   6 CV   Très bon   \n",
       "6               5       Dédouanée         Non  12 CV   Très bon   \n",
       "7               5     WW au Maroc         Non   8 CV   Très bon   \n",
       "8               5       Dédouanée         Oui   8 CV       Neuf   \n",
       "9               5  Importée neuve         Non  12 CV  Excellent   \n",
       "\n",
       "                                           Equipment  \n",
       "0                                               None  \n",
       "1  Climatisation, Jantes aluminium, Verrouillage ...  \n",
       "2                                               None  \n",
       "3                                               None  \n",
       "4  ABS, Airbags, CD/MP3/Bluetooth, Caméra de recu...  \n",
       "5  ABS, Airbags, Climatisation, ESP, Limiteur de ...  \n",
       "6  ABS, Airbags, CD/MP3/Bluetooth, Caméra de recu...  \n",
       "7  ABS, Airbags, CD/MP3/Bluetooth, Climatisation,...  \n",
       "8                                               None  \n",
       "9                                               None  "
      ],
      "text/html": [
       "<div>\n",
       "<style scoped>\n",
       "    .dataframe tbody tr th:only-of-type {\n",
       "        vertical-align: middle;\n",
       "    }\n",
       "\n",
       "    .dataframe tbody tr th {\n",
       "        vertical-align: top;\n",
       "    }\n",
       "\n",
       "    .dataframe thead th {\n",
       "        text-align: right;\n",
       "    }\n",
       "</style>\n",
       "<table border=\"1\" class=\"dataframe\">\n",
       "  <thead>\n",
       "    <tr style=\"text-align: right;\">\n",
       "      <th></th>\n",
       "      <th>Price</th>\n",
       "      <th>Year</th>\n",
       "      <th>Transmission</th>\n",
       "      <th>Fuel</th>\n",
       "      <th>Type</th>\n",
       "      <th>Sector</th>\n",
       "      <th>Mileage</th>\n",
       "      <th>Brand</th>\n",
       "      <th>Model</th>\n",
       "      <th>Number of doors</th>\n",
       "      <th>Origin</th>\n",
       "      <th>First owner</th>\n",
       "      <th>Power</th>\n",
       "      <th>Condition</th>\n",
       "      <th>Equipment</th>\n",
       "    </tr>\n",
       "  </thead>\n",
       "  <tbody>\n",
       "    <tr>\n",
       "      <th>0</th>\n",
       "      <td>95000</td>\n",
       "      <td>2009</td>\n",
       "      <td>Manuelle</td>\n",
       "      <td>Diesel</td>\n",
       "      <td>Voitures d'occasion, à vendre</td>\n",
       "      <td>Ville Nouvelle</td>\n",
       "      <td>0 - 4 999</td>\n",
       "      <td>Renault</td>\n",
       "      <td>Laguna</td>\n",
       "      <td>5</td>\n",
       "      <td>WW au Maroc</td>\n",
       "      <td>Oui</td>\n",
       "      <td>6 CV</td>\n",
       "      <td>Très bon</td>\n",
       "      <td>None</td>\n",
       "    </tr>\n",
       "    <tr>\n",
       "      <th>1</th>\n",
       "      <td>30000</td>\n",
       "      <td>1986</td>\n",
       "      <td>Manuelle</td>\n",
       "      <td>Diesel</td>\n",
       "      <td>Voitures d'occasion, à vendre</td>\n",
       "      <td>Toute la ville</td>\n",
       "      <td>10 000 - 14 999</td>\n",
       "      <td>Volkswagen</td>\n",
       "      <td>Golf 2</td>\n",
       "      <td>5</td>\n",
       "      <td>Dédouanée</td>\n",
       "      <td>Non</td>\n",
       "      <td>7 CV</td>\n",
       "      <td>Très bon</td>\n",
       "      <td>Climatisation, Jantes aluminium, Verrouillage ...</td>\n",
       "    </tr>\n",
       "    <tr>\n",
       "      <th>2</th>\n",
       "      <td>85000</td>\n",
       "      <td>2019</td>\n",
       "      <td>Manuelle</td>\n",
       "      <td>Essence</td>\n",
       "      <td>Voitures d'occasion, à vendre</td>\n",
       "      <td>Centre Ville</td>\n",
       "      <td>120 000 - 129 999</td>\n",
       "      <td>Dacia</td>\n",
       "      <td>Logan</td>\n",
       "      <td>5</td>\n",
       "      <td>WW au Maroc</td>\n",
       "      <td>Non</td>\n",
       "      <td>7 CV</td>\n",
       "      <td>Très bon</td>\n",
       "      <td>None</td>\n",
       "    </tr>\n",
       "    <tr>\n",
       "      <th>3</th>\n",
       "      <td>110000</td>\n",
       "      <td>2021</td>\n",
       "      <td>Manuelle</td>\n",
       "      <td>Diesel</td>\n",
       "      <td>Voitures d'occasion, à vendre</td>\n",
       "      <td>Toute la ville</td>\n",
       "      <td>45 000 - 49 999</td>\n",
       "      <td>Renault</td>\n",
       "      <td>Kangoo</td>\n",
       "      <td>5</td>\n",
       "      <td>WW au Maroc</td>\n",
       "      <td>Oui</td>\n",
       "      <td>6 CV</td>\n",
       "      <td>Très bon</td>\n",
       "      <td>None</td>\n",
       "    </tr>\n",
       "    <tr>\n",
       "      <th>4</th>\n",
       "      <td>155000</td>\n",
       "      <td>2012</td>\n",
       "      <td>Manuelle</td>\n",
       "      <td>Diesel</td>\n",
       "      <td>Voitures d'occasion, à vendre</td>\n",
       "      <td>Centre ville</td>\n",
       "      <td>250 000 - 299 999</td>\n",
       "      <td>BMW</td>\n",
       "      <td>Série 3</td>\n",
       "      <td>5</td>\n",
       "      <td>WW au Maroc</td>\n",
       "      <td>Non</td>\n",
       "      <td>8 CV</td>\n",
       "      <td>Excellent</td>\n",
       "      <td>ABS, Airbags, CD/MP3/Bluetooth, Caméra de recu...</td>\n",
       "    </tr>\n",
       "    <tr>\n",
       "      <th>5</th>\n",
       "      <td>6999</td>\n",
       "      <td>2010</td>\n",
       "      <td>Manuelle</td>\n",
       "      <td>Diesel</td>\n",
       "      <td>Voitures d'occasion, à vendre</td>\n",
       "      <td>Toute la ville</td>\n",
       "      <td>200 000 - 249 999</td>\n",
       "      <td>Citroen</td>\n",
       "      <td>C4</td>\n",
       "      <td>5</td>\n",
       "      <td>WW au Maroc</td>\n",
       "      <td>Non</td>\n",
       "      <td>6 CV</td>\n",
       "      <td>Très bon</td>\n",
       "      <td>ABS, Airbags, Climatisation, ESP, Limiteur de ...</td>\n",
       "    </tr>\n",
       "    <tr>\n",
       "      <th>6</th>\n",
       "      <td>105000</td>\n",
       "      <td>2012</td>\n",
       "      <td>Automatique</td>\n",
       "      <td>Diesel</td>\n",
       "      <td>Voitures d'occasion, à vendre</td>\n",
       "      <td>Harhoura</td>\n",
       "      <td>180 000 - 189 999</td>\n",
       "      <td>Jeep</td>\n",
       "      <td>Grand Cherokee</td>\n",
       "      <td>5</td>\n",
       "      <td>Dédouanée</td>\n",
       "      <td>Non</td>\n",
       "      <td>12 CV</td>\n",
       "      <td>Très bon</td>\n",
       "      <td>ABS, Airbags, CD/MP3/Bluetooth, Caméra de recu...</td>\n",
       "    </tr>\n",
       "    <tr>\n",
       "      <th>7</th>\n",
       "      <td>108000</td>\n",
       "      <td>2008</td>\n",
       "      <td>Manuelle</td>\n",
       "      <td>Diesel</td>\n",
       "      <td>Voitures d'occasion, à vendre</td>\n",
       "      <td>Toute la ville</td>\n",
       "      <td>200 000 - 249 999</td>\n",
       "      <td>Audi</td>\n",
       "      <td>A4</td>\n",
       "      <td>5</td>\n",
       "      <td>WW au Maroc</td>\n",
       "      <td>Non</td>\n",
       "      <td>8 CV</td>\n",
       "      <td>Très bon</td>\n",
       "      <td>ABS, Airbags, CD/MP3/Bluetooth, Climatisation,...</td>\n",
       "    </tr>\n",
       "    <tr>\n",
       "      <th>8</th>\n",
       "      <td>290000</td>\n",
       "      <td>2021</td>\n",
       "      <td>Automatique</td>\n",
       "      <td>Diesel</td>\n",
       "      <td>Voitures d'occasion, à vendre</td>\n",
       "      <td>Hay Dakhla</td>\n",
       "      <td>100 000 - 109 999</td>\n",
       "      <td>Volkswagen</td>\n",
       "      <td>Golf 8</td>\n",
       "      <td>5</td>\n",
       "      <td>Dédouanée</td>\n",
       "      <td>Oui</td>\n",
       "      <td>8 CV</td>\n",
       "      <td>Neuf</td>\n",
       "      <td>None</td>\n",
       "    </tr>\n",
       "    <tr>\n",
       "      <th>9</th>\n",
       "      <td>169000</td>\n",
       "      <td>2016</td>\n",
       "      <td>Automatique</td>\n",
       "      <td>Diesel</td>\n",
       "      <td>Voitures d'occasion, à vendre</td>\n",
       "      <td>Ain Sebaa</td>\n",
       "      <td>200 000 - 249 999</td>\n",
       "      <td>Volkswagen</td>\n",
       "      <td>Touareg</td>\n",
       "      <td>5</td>\n",
       "      <td>Importée neuve</td>\n",
       "      <td>Non</td>\n",
       "      <td>12 CV</td>\n",
       "      <td>Excellent</td>\n",
       "      <td>None</td>\n",
       "    </tr>\n",
       "  </tbody>\n",
       "</table>\n",
       "</div>"
      ]
     },
     "execution_count": 150,
     "metadata": {},
     "output_type": "execute_result"
    }
   ],
   "execution_count": 150
  },
  {
   "metadata": {
    "ExecuteTime": {
     "end_time": "2025-04-03T07:55:10.509327Z",
     "start_time": "2025-04-03T07:55:09.657453Z"
    }
   },
   "cell_type": "code",
   "source": [
    "list1 = []\n",
    "\n",
    "list1.append(['Casablanca']) * 5\n",
    "\n",
    "print(len(list1))"
   ],
   "id": "934bae8c4c2d39d1",
   "outputs": [
    {
     "ename": "TypeError",
     "evalue": "unsupported operand type(s) for *: 'NoneType' and 'int'",
     "output_type": "error",
     "traceback": [
      "\u001B[31m---------------------------------------------------------------------------\u001B[39m",
      "\u001B[31mTypeError\u001B[39m                                 Traceback (most recent call last)",
      "\u001B[36mCell\u001B[39m\u001B[36m \u001B[39m\u001B[32mIn[3]\u001B[39m\u001B[32m, line 3\u001B[39m\n\u001B[32m      1\u001B[39m list1 = []\n\u001B[32m----> \u001B[39m\u001B[32m3\u001B[39m \u001B[43mlist1\u001B[49m\u001B[43m.\u001B[49m\u001B[43mappend\u001B[49m\u001B[43m(\u001B[49m\u001B[43m[\u001B[49m\u001B[33;43m'\u001B[39;49m\u001B[33;43mCasablanca\u001B[39;49m\u001B[33;43m'\u001B[39;49m\u001B[43m]\u001B[49m\u001B[43m)\u001B[49m\u001B[43m \u001B[49m\u001B[43m*\u001B[49m\u001B[43m \u001B[49m\u001B[32;43m5\u001B[39;49m\n\u001B[32m      5\u001B[39m \u001B[38;5;28mprint\u001B[39m(\u001B[38;5;28mlen\u001B[39m(list1))\n",
      "\u001B[31mTypeError\u001B[39m: unsupported operand type(s) for *: 'NoneType' and 'int'"
     ]
    }
   ],
   "execution_count": 3
  },
  {
   "metadata": {
    "ExecuteTime": {
     "end_time": "2025-04-03T07:54:53.796263Z",
     "start_time": "2025-04-03T07:54:53.792261Z"
    }
   },
   "cell_type": "code",
   "source": "",
   "id": "5d78f4cf959bc120",
   "outputs": [],
   "execution_count": 2
  },
  {
   "metadata": {},
   "cell_type": "code",
   "outputs": [],
   "execution_count": null,
   "source": "",
   "id": "725375687c677143"
  }
 ],
 "metadata": {
  "kernelspec": {
   "display_name": "Python 3",
   "language": "python",
   "name": "python3"
  },
  "language_info": {
   "codemirror_mode": {
    "name": "ipython",
    "version": 2
   },
   "file_extension": ".py",
   "mimetype": "text/x-python",
   "name": "python",
   "nbconvert_exporter": "python",
   "pygments_lexer": "ipython2",
   "version": "2.7.6"
  }
 },
 "nbformat": 4,
 "nbformat_minor": 5
}
